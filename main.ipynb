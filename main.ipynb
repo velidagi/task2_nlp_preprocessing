{
 "cells": [
  {
   "cell_type": "code",
   "execution_count": 1,
   "id": "22f62070",
   "metadata": {},
   "outputs": [
    {
     "name": "stderr",
     "output_type": "stream",
     "text": [
      "[nltk_data] Downloading package stopwords to\n",
      "[nltk_data]     C:\\Users\\velyd\\AppData\\Roaming\\nltk_data...\n",
      "[nltk_data]   Package stopwords is already up-to-date!\n",
      "[nltk_data] Downloading package punkt to\n",
      "[nltk_data]     C:\\Users\\velyd\\AppData\\Roaming\\nltk_data...\n",
      "[nltk_data]   Package punkt is already up-to-date!\n",
      "[nltk_data] Downloading package wordnet to\n",
      "[nltk_data]     C:\\Users\\velyd\\AppData\\Roaming\\nltk_data...\n",
      "[nltk_data]   Package wordnet is already up-to-date!\n"
     ]
    }
   ],
   "source": [
    "import pandas as pd\n",
    "import numpy as np\n",
    "import matplotlib.pyplot as plt\n",
    "import nltk\n",
    "import spacy\n",
    "from sklearn.feature_extraction.text import CountVectorizer, TfidfVectorizer\n",
    "from sklearn.model_selection import train_test_split\n",
    "from sklearn.naive_bayes import MultinomialNB\n",
    "from sklearn.linear_model import LogisticRegression\n",
    "from sklearn.metrics import accuracy_score, precision_score, f1_score, classification_report\n",
    "\n",
    "nltk.download('stopwords')\n",
    "nltk.download('punkt')\n",
    "nltk.download('wordnet')\n",
    "\n",
    "from nltk.corpus import stopwords\n",
    "from nltk.stem import PorterStemmer, WordNetLemmatizer\n",
    "from nltk.tokenize import word_tokenize\n"
   ]
  },
  {
   "cell_type": "code",
   "execution_count": 2,
   "id": "b163c97f",
   "metadata": {},
   "outputs": [
    {
     "name": "stdout",
     "output_type": "stream",
     "text": [
      "   UserName  ScreenName   Location     TweetAt  \\\n",
      "0      3799       48751     London  16-03-2020   \n",
      "1      3800       48752         UK  16-03-2020   \n",
      "2      3801       48753  Vagabonds  16-03-2020   \n",
      "3      3802       48754        NaN  16-03-2020   \n",
      "4      3803       48755        NaN  16-03-2020   \n",
      "\n",
      "                                       OriginalTweet           Sentiment  \n",
      "0  @MeNyrbie @Phil_Gahan @Chrisitv https://t.co/i...             Neutral  \n",
      "1  advice Talk to your neighbours family to excha...            Positive  \n",
      "2  Coronavirus Australia: Woolworths to give elde...            Positive  \n",
      "3  My food stock is not the only one which is emp...            Positive  \n",
      "4  Me, ready to go at supermarket during the #COV...  Extremely Negative  \n",
      "Index(['UserName', 'ScreenName', 'Location', 'TweetAt', 'OriginalTweet',\n",
      "       'Sentiment'],\n",
      "      dtype='object')\n"
     ]
    }
   ],
   "source": [
    "# CSV dosyalarını oku\n",
    "train_df = pd.read_csv(\"Corona_NLP_train.csv\", encoding='latin1')\n",
    "test_df = pd.read_csv(\"Corona_NLP_test.csv\", encoding='latin1')\n",
    "\n",
    "print(train_df.head())\n",
    "print(train_df.columns)\n"
   ]
  },
  {
   "cell_type": "code",
   "execution_count": 3,
   "id": "135d11f3",
   "metadata": {},
   "outputs": [
    {
     "name": "stdout",
     "output_type": "stream",
     "text": [
      "                                       OriginalTweet  \\\n",
      "0  @MeNyrbie @Phil_Gahan @Chrisitv https://t.co/i...   \n",
      "1  advice Talk to your neighbours family to excha...   \n",
      "2  Coronavirus Australia: Woolworths to give elde...   \n",
      "3  My food stock is not the only one which is emp...   \n",
      "4  Me, ready to go at supermarket during the #COV...   \n",
      "\n",
      "                                        cleaned_text  \n",
      "0            menyrbie phil_gahan chrisitv  and  and   \n",
      "1  advice talk to your neighbours family to excha...  \n",
      "2  coronavirus australia woolworths to give elder...  \n",
      "3  my food stock is not the only one which is emp...  \n",
      "4  me ready to go at supermarket during the covid...  \n"
     ]
    }
   ],
   "source": [
    "import re\n",
    "\n",
    "def clean_text(text):\n",
    "    text = re.sub(r'<.*?>', '', text)  # HTML Etiketleri\n",
    "    text = re.sub(r'http\\S+|www\\S+', '', text)  # URL'ler\n",
    "    text = re.sub(r'\\d+', '', text)  # Sayılar\n",
    "    text = re.sub(r'[^\\w\\s]', '', text)  # Noktalama\n",
    "    text = text.lower()  # Küçük harfe çevir\n",
    "    return text\n",
    "\n",
    "train_df['cleaned_text'] = train_df['OriginalTweet'].apply(clean_text)\n",
    "test_df['cleaned_text'] = test_df['OriginalTweet'].apply(clean_text)\n",
    "\n",
    "print(train_df[['OriginalTweet', 'cleaned_text']].head())\n"
   ]
  },
  {
   "cell_type": "code",
   "execution_count": 4,
   "id": "a1f89d6b",
   "metadata": {},
   "outputs": [
    {
     "name": "stdout",
     "output_type": "stream",
     "text": [
      "                                        cleaned_text  \\\n",
      "0            menyrbie phil_gahan chrisitv  and  and    \n",
      "1  advice talk to your neighbours family to excha...   \n",
      "2  coronavirus australia woolworths to give elder...   \n",
      "3  my food stock is not the only one which is emp...   \n",
      "4  me ready to go at supermarket during the covid...   \n",
      "\n",
      "                                      processed_text  \n",
      "0                        menyrbi phil_gahan chrisitv  \n",
      "1  advic talk neighbour famili exchang phone numb...  \n",
      "2  coronaviru australia woolworth give elderli di...  \n",
      "3  food stock one empti pleas dont panic enough f...  \n",
      "4  readi go supermarket covid outbreak im paranoi...  \n"
     ]
    }
   ],
   "source": [
    "stop_words = set(stopwords.words('english'))\n",
    "lemmatizer = WordNetLemmatizer()\n",
    "stemmer = PorterStemmer()\n",
    "\n",
    "def preprocess_text(text):\n",
    "    tokens = word_tokenize(text)\n",
    "    tokens = [word for word in tokens if word not in stop_words]  # Stopwords kaldır\n",
    "    # print(f\"Tokens after removing stopwords: {tokens}\")\n",
    "    tokens = [lemmatizer.lemmatize(word) for word in tokens]  # Lemmatization\n",
    "    # print(f\"Tokens after lemmatization: {tokens}\")\n",
    "    tokens = [stemmer.stem(word) for word in tokens]  # Stemming\n",
    "    return \" \".join(tokens)\n",
    "\n",
    "train_df['processed_text'] = train_df['cleaned_text'].apply(preprocess_text)\n",
    "test_df['processed_text'] = test_df['cleaned_text'].apply(preprocess_text)\n",
    "\n",
    "print(train_df[['cleaned_text', 'processed_text']].head())\n"
   ]
  },
  {
   "cell_type": "code",
   "execution_count": 5,
   "id": "e9e77cfd",
   "metadata": {},
   "outputs": [],
   "source": [
    "# TF-IDF Vektörizasyon\n",
    "tfidf = TfidfVectorizer(max_features=5000)\n",
    "X_train = tfidf.fit_transform(train_df['processed_text'])\n",
    "X_test = tfidf.transform(test_df['processed_text'])\n",
    "\n",
    "y_train = train_df['Sentiment']\n",
    "y_test = test_df['Sentiment']\n"
   ]
  },
  {
   "cell_type": "code",
   "execution_count": 6,
   "id": "7ed936bd",
   "metadata": {},
   "outputs": [
    {
     "name": "stdout",
     "output_type": "stream",
     "text": [
      "Naive Bayes:\n",
      "                    precision    recall  f1-score   support\n",
      "\n",
      "Extremely Negative       0.72      0.15      0.25       592\n",
      "Extremely Positive       0.81      0.20      0.31       599\n",
      "          Negative       0.42      0.54      0.47      1041\n",
      "           Neutral       0.59      0.35      0.44       619\n",
      "          Positive       0.37      0.71      0.49       947\n",
      "\n",
      "          accuracy                           0.44      3798\n",
      "         macro avg       0.58      0.39      0.39      3798\n",
      "      weighted avg       0.54      0.44      0.41      3798\n",
      "\n"
     ]
    }
   ],
   "source": [
    "nb_model = MultinomialNB()\n",
    "nb_model.fit(X_train, y_train)\n",
    "y_pred_nb = nb_model.predict(X_test)\n",
    "\n",
    "print(\"Naive Bayes:\")\n",
    "print(classification_report(y_test, y_pred_nb))\n"
   ]
  },
  {
   "cell_type": "code",
   "execution_count": 7,
   "id": "3adb6db0",
   "metadata": {},
   "outputs": [
    {
     "name": "stdout",
     "output_type": "stream",
     "text": [
      "Lojistik Regresyon:\n",
      "                    precision    recall  f1-score   support\n",
      "\n",
      "Extremely Negative       0.64      0.47      0.54       592\n",
      "Extremely Positive       0.70      0.53      0.60       599\n",
      "          Negative       0.51      0.52      0.52      1041\n",
      "           Neutral       0.60      0.66      0.63       619\n",
      "          Positive       0.49      0.62      0.55       947\n",
      "\n",
      "          accuracy                           0.56      3798\n",
      "         macro avg       0.59      0.56      0.57      3798\n",
      "      weighted avg       0.57      0.56      0.56      3798\n",
      "\n"
     ]
    }
   ],
   "source": [
    "lr_model = LogisticRegression(max_iter=1000)\n",
    "lr_model.fit(X_train, y_train)\n",
    "y_pred_lr = lr_model.predict(X_test)\n",
    "\n",
    "print(\"Lojistik Regresyon:\")\n",
    "print(classification_report(y_test, y_pred_lr))\n"
   ]
  },
  {
   "cell_type": "code",
   "execution_count": 8,
   "id": "86ce0fbd",
   "metadata": {},
   "outputs": [
    {
     "data": {
      "image/png": "[encoded data removed]",
      "text/plain": [
       "<Figure size 640x480 with 1 Axes>"
      ]
     },
     "metadata": {},
     "output_type": "display_data"
    }
   ],
   "source": [
    "models = ['Naive Bayes', 'Logistic Regression']\n",
    "accuracy = [accuracy_score(y_test, y_pred_nb), accuracy_score(y_test, y_pred_lr)]\n",
    "\n",
    "plt.bar(models, accuracy, color=['blue', 'green'])\n",
    "plt.ylabel(\"Accuracy Score\")\n",
    "plt.title(\"Model Comparison\")\n",
    "plt.show()\n"
   ]
  },
  {
   "cell_type": "code",
   "execution_count": null,
   "id": "dbaa65be",
   "metadata": {},
   "outputs": [],
   "source": []
  },
  {
   "cell_type": "code",
   "execution_count": null,
   "id": "9e356322",
   "metadata": {},
   "outputs": [],
   "source": []
  },
  {
   "cell_type": "code",
   "execution_count": null,
   "id": "3f252e5a",
   "metadata": {},
   "outputs": [],
   "source": []
  }
 ],
 "metadata": {
  "kernelspec": {
   "display_name": "Python 3",
   "language": "python",
   "name": "python3"
  },
  "language_info": {
   "codemirror_mode": {
    "name": "ipython",
    "version": 3
   },
   "file_extension": ".py",
   "mimetype": "text/x-python",
   "name": "python",
   "nbconvert_exporter": "python",
   "pygments_lexer": "ipython3",
   "version": "3.13.3"
  }
 },
 "nbformat": 4,
 "nbformat_minor": 5
}
