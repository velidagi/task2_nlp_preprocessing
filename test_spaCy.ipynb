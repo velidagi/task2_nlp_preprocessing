{
 "cells": [
  {
   "cell_type": "code",
   "execution_count": 19,
   "id": "b13ca7e0",
   "metadata": {},
   "outputs": [],
   "source": [
    "# Gerekli kütüphaneleri import ediyoruz\n",
    "import pandas as pd\n",
    "import numpy as np\n",
    "import matplotlib.pyplot as plt\n",
    "import spacy\n",
    "from sklearn.feature_extraction.text import TfidfVectorizer\n",
    "from sklearn.model_selection import train_test_split\n",
    "from sklearn.naive_bayes import MultinomialNB\n",
    "from sklearn.linear_model import LogisticRegression\n",
    "from sklearn.metrics import classification_report, accuracy_score\n",
    "\n",
    "# spaCy'nin İngilizce dil modeli yükleniyor\n",
    "nlp = spacy.load(\"en_core_web_sm\")\n"
   ]
  },
  {
   "cell_type": "code",
   "execution_count": 20,
   "id": "02ad836b",
   "metadata": {},
   "outputs": [
    {
     "name": "stdout",
     "output_type": "stream",
     "text": [
      "Index(['UserName', 'ScreenName', 'Location', 'TweetAt', 'OriginalTweet',\n",
      "       'Sentiment'],\n",
      "      dtype='object')\n"
     ]
    }
   ],
   "source": [
    "# Kaggle'dan aldığımız Corona_NLP veri setini yüklüyoruz\n",
    "train_df = pd.read_csv(\"Corona_NLP_train.csv\", encoding='latin1')\n",
    "test_df = pd.read_csv(\"Corona_NLP_test.csv\", encoding='latin1')\n",
    "\n",
    "# Veri setindeki kolon isimlerine bakıyoruz\n",
    "print(train_df.columns)\n"
   ]
  },
  {
   "cell_type": "code",
   "execution_count": null,
   "id": "c0cf1f6d",
   "metadata": {},
   "outputs": [
    {
     "name": "stdout",
     "output_type": "stream",
     "text": [
      "                                       OriginalTweet  \\\n",
      "0  @MeNyrbie @Phil_Gahan @Chrisitv https://t.co/i...   \n",
      "1  advice Talk to your neighbours family to excha...   \n",
      "2  Coronavirus Australia: Woolworths to give elde...   \n",
      "3  My food stock is not the only one which is emp...   \n",
      "4  Me, ready to go at supermarket during the #COV...   \n",
      "\n",
      "                                        cleaned_text  \n",
      "0            menyrbie phil_gahan chrisitv  and  and   \n",
      "1  advice talk to your neighbours family to excha...  \n",
      "2  coronavirus australia woolworths to give elder...  \n",
      "3  my food stock is not the only one which is emp...  \n",
      "4  me ready to go at supermarket during the covid...  \n"
     ]
    }
   ],
   "source": [
    "import re\n",
    "\n",
    "def clean_text(text):\n",
    "    text = re.sub(r'<.*?>', '', text)  # HTML Etiketleri\n",
    "    text = re.sub(r'http\\S+|www\\S+', '', text)  # URL'ler\n",
    "    text = re.sub(r'\\d+', '', text)  # Sayılar\n",
    "    text = re.sub(r'[^\\w\\s]', '', text)  # Noktalama\n",
    "    text = text.lower()  # Küçük harfe çevir\n",
    "    return text\n",
    "\n",
    "train_df['cleaned_text'] = train_df['OriginalTweet'].apply(clean_text)\n",
    "test_df['cleaned_text'] = test_df['OriginalTweet'].apply(clean_text)\n",
    "\n",
    "print(train_df[['OriginalTweet', 'cleaned_text']].head())\n"
   ]
  },
  {
   "cell_type": "code",
   "execution_count": 22,
   "id": "fb88b211",
   "metadata": {},
   "outputs": [
    {
     "name": "stdout",
     "output_type": "stream",
     "text": [
      "                                       OriginalTweet  \\\n",
      "0  @MeNyrbie @Phil_Gahan @Chrisitv https://t.co/i...   \n",
      "1  advice Talk to your neighbours family to excha...   \n",
      "2  Coronavirus Australia: Woolworths to give elde...   \n",
      "3  My food stock is not the only one which is emp...   \n",
      "4  Me, ready to go at supermarket during the #COV...   \n",
      "\n",
      "                                      processed_text  \n",
      "0                       menyrbie phil_gahan chrisitv  \n",
      "1  advice talk neighbour family exchange phone nu...  \n",
      "2  coronavirus australia woolworth elderly disabl...  \n",
      "3  food stock not panic food need stay calm stay ...  \n",
      "4  ready supermarket covid outbreak m paranoid fo...  \n"
     ]
    }
   ],
   "source": [
    "def spacy_preprocess(text):\n",
    "    doc = nlp(text)  \n",
    "    tokens = []\n",
    "    for token in doc:\n",
    "        # Stopword olmayan ve boşluk olmayan token'ları topluyoruz\n",
    "        if not token.is_stop and not token.is_punct and not token.is_space:\n",
    "            tokens.append(token.lemma_)  # Lemmatization uyguluyoruz\n",
    "    return \" \".join(tokens)  \n",
    "\n",
    "train_df['processed_text'] = train_df['cleaned_text'].apply(spacy_preprocess)\n",
    "test_df['processed_text'] = test_df['cleaned_text'].apply(spacy_preprocess)\n",
    "\n",
    "print(train_df[['OriginalTweet', 'processed_text']].head())\n"
   ]
  },
  {
   "cell_type": "code",
   "execution_count": 23,
   "id": "b7bdb120",
   "metadata": {},
   "outputs": [],
   "source": [
    "# TF-IDF vektörizer'ı tanımlıyoruz\n",
    "tfidf = TfidfVectorizer(max_features=5000)\n",
    "\n",
    "# TF-IDF dönüşümünü uyguluyoruz\n",
    "X_train = tfidf.fit_transform(train_df['processed_text'])\n",
    "X_test = tfidf.transform(test_df['processed_text'])\n",
    "\n",
    "# Hedef değişken (etiket) olarak Sentiment kolonunu kullanıyoruz\n",
    "y_train = train_df['Sentiment']\n",
    "y_test = test_df['Sentiment']\n"
   ]
  },
  {
   "cell_type": "code",
   "execution_count": 24,
   "id": "807d3ab8",
   "metadata": {},
   "outputs": [
    {
     "name": "stdout",
     "output_type": "stream",
     "text": [
      "=== Naive Bayes Sınıflandırıcı ===\n",
      "                    precision    recall  f1-score   support\n",
      "\n",
      "Extremely Negative       0.69      0.14      0.23       592\n",
      "Extremely Positive       0.74      0.18      0.29       599\n",
      "          Negative       0.42      0.54      0.47      1041\n",
      "           Neutral       0.54      0.32      0.40       619\n",
      "          Positive       0.36      0.70      0.48       947\n",
      "\n",
      "          accuracy                           0.42      3798\n",
      "         macro avg       0.55      0.38      0.38      3798\n",
      "      weighted avg       0.52      0.42      0.40      3798\n",
      "\n"
     ]
    }
   ],
   "source": [
    "# Naive Bayes Modeli Eğitimi\n",
    "nb_model = MultinomialNB()\n",
    "nb_model.fit(X_train, y_train)\n",
    "\n",
    "# Test verisiyle tahmin yapma\n",
    "y_pred_nb = nb_model.predict(X_test)\n",
    "\n",
    "# Sonuçları raporlama\n",
    "print(\"=== Naive Bayes Sınıflandırıcı ===\")\n",
    "print(classification_report(y_test, y_pred_nb))\n"
   ]
  },
  {
   "cell_type": "code",
   "execution_count": 25,
   "id": "8242bd93",
   "metadata": {},
   "outputs": [
    {
     "name": "stdout",
     "output_type": "stream",
     "text": [
      "=== Lojistik Regresyon Sınıflandırıcı ===\n",
      "                    precision    recall  f1-score   support\n",
      "\n",
      "Extremely Negative       0.65      0.47      0.55       592\n",
      "Extremely Positive       0.65      0.53      0.58       599\n",
      "          Negative       0.51      0.52      0.52      1041\n",
      "           Neutral       0.58      0.64      0.61       619\n",
      "          Positive       0.49      0.59      0.54       947\n",
      "\n",
      "          accuracy                           0.55      3798\n",
      "         macro avg       0.58      0.55      0.56      3798\n",
      "      weighted avg       0.56      0.55      0.55      3798\n",
      "\n"
     ]
    }
   ],
   "source": [
    "# Lojistik Regresyon Modeli Eğitimi\n",
    "lr_model = LogisticRegression(max_iter=1000)\n",
    "lr_model.fit(X_train, y_train)\n",
    "\n",
    "# Test verisiyle tahmin yapma\n",
    "y_pred_lr = lr_model.predict(X_test)\n",
    "\n",
    "# Sonuçları raporlama\n",
    "print(\"=== Lojistik Regresyon Sınıflandırıcı ===\")\n",
    "print(classification_report(y_test, y_pred_lr))\n"
   ]
  },
  {
   "cell_type": "code",
   "execution_count": 26,
   "id": "c6f73866",
   "metadata": {},
   "outputs": [
    {
     "data": {
      "image/png": "[encoded data removed]",
      "text/plain": [
       "<Figure size 640x480 with 1 Axes>"
      ]
     },
     "metadata": {},
     "output_type": "display_data"
    }
   ],
   "source": [
    "# İki modelin doğruluk oranını karşılaştıralım\n",
    "models = ['Naive Bayes', 'Logistic Regression']\n",
    "accuracy = [accuracy_score(y_test, y_pred_nb), accuracy_score(y_test, y_pred_lr)]\n",
    "\n",
    "plt.bar(models, accuracy, color=['blue', 'green'])\n",
    "plt.ylabel(\"Accuracy Score\")\n",
    "plt.title(\"Model Comparison\")\n",
    "plt.show()\n"
   ]
  },
  {
   "cell_type": "code",
   "execution_count": null,
   "id": "de54b592",
   "metadata": {},
   "outputs": [],
   "source": []
  },
  {
   "cell_type": "code",
   "execution_count": null,
   "id": "58d9d6e4",
   "metadata": {},
   "outputs": [],
   "source": []
  }
 ],
 "metadata": {
  "kernelspec": {
   "display_name": "Python 3",
   "language": "python",
   "name": "python3"
  },
  "language_info": {
   "codemirror_mode": {
    "name": "ipython",
    "version": 3
   },
   "file_extension": ".py",
   "mimetype": "text/x-python",
   "name": "python",
   "nbconvert_exporter": "python",
   "pygments_lexer": "ipython3",
   "version": "3.13.3"
  }
 },
 "nbformat": 4,
 "nbformat_minor": 5
}
